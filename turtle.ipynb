{
 "cells": [
  {
   "cell_type": "code",
   "execution_count": 19,
   "id": "initial_id",
   "metadata": {
    "collapsed": true,
    "ExecuteTime": {
     "end_time": "2024-03-25T07:03:29.710819Z",
     "start_time": "2024-03-25T07:03:29.708308Z"
    }
   },
   "outputs": [],
   "source": [
    "import turtle\n"
   ]
  },
  {
   "cell_type": "code",
   "outputs": [
    {
     "ename": "Terminator",
     "evalue": "",
     "output_type": "error",
     "traceback": [
      "\u001B[1;31m---------------------------------------------------------------------------\u001B[0m",
      "\u001B[1;31mTerminator\u001B[0m                                Traceback (most recent call last)",
      "Cell \u001B[1;32mIn[21], line 6\u001B[0m\n\u001B[0;32m      4\u001B[0m \u001B[38;5;28;01mfor\u001B[39;00m i \u001B[38;5;129;01min\u001B[39;00m \u001B[38;5;28mrange\u001B[39m(\u001B[38;5;241m900\u001B[39m):\n\u001B[0;32m      5\u001B[0m     star\u001B[38;5;241m.\u001B[39mforward(\u001B[38;5;241m200\u001B[39m)\n\u001B[1;32m----> 6\u001B[0m     \u001B[43mstar\u001B[49m\u001B[38;5;241;43m.\u001B[39;49m\u001B[43mright\u001B[49m\u001B[43m(\u001B[49m\u001B[38;5;241;43m145\u001B[39;49m\u001B[43m)\u001B[49m\n\u001B[0;32m      7\u001B[0m turtle\u001B[38;5;241m.\u001B[39mexitonclick()\n",
      "File \u001B[1;32m~\\AppData\\Local\\Programs\\Python\\Python311\\Lib\\turtle.py:1679\u001B[0m, in \u001B[0;36mTNavigator.right\u001B[1;34m(self, angle)\u001B[0m\n\u001B[0;32m   1660\u001B[0m \u001B[38;5;28;01mdef\u001B[39;00m \u001B[38;5;21mright\u001B[39m(\u001B[38;5;28mself\u001B[39m, angle):\n\u001B[0;32m   1661\u001B[0m \u001B[38;5;250m    \u001B[39m\u001B[38;5;124;03m\"\"\"Turn turtle right by angle units.\u001B[39;00m\n\u001B[0;32m   1662\u001B[0m \n\u001B[0;32m   1663\u001B[0m \u001B[38;5;124;03m    Aliases: right | rt\u001B[39;00m\n\u001B[1;32m   (...)\u001B[0m\n\u001B[0;32m   1677\u001B[0m \u001B[38;5;124;03m    337.0\u001B[39;00m\n\u001B[0;32m   1678\u001B[0m \u001B[38;5;124;03m    \"\"\"\u001B[39;00m\n\u001B[1;32m-> 1679\u001B[0m     \u001B[38;5;28;43mself\u001B[39;49m\u001B[38;5;241;43m.\u001B[39;49m\u001B[43m_rotate\u001B[49m\u001B[43m(\u001B[49m\u001B[38;5;241;43m-\u001B[39;49m\u001B[43mangle\u001B[49m\u001B[43m)\u001B[49m\n",
      "File \u001B[1;32m~\\AppData\\Local\\Programs\\Python\\Python311\\Lib\\turtle.py:3295\u001B[0m, in \u001B[0;36mRawTurtle._rotate\u001B[1;34m(self, angle)\u001B[0m\n\u001B[0;32m   3293\u001B[0m         \u001B[38;5;28mself\u001B[39m\u001B[38;5;241m.\u001B[39m_update()\n\u001B[0;32m   3294\u001B[0m \u001B[38;5;28mself\u001B[39m\u001B[38;5;241m.\u001B[39m_orient \u001B[38;5;241m=\u001B[39m neworient\n\u001B[1;32m-> 3295\u001B[0m \u001B[38;5;28;43mself\u001B[39;49m\u001B[38;5;241;43m.\u001B[39;49m\u001B[43m_update\u001B[49m\u001B[43m(\u001B[49m\u001B[43m)\u001B[49m\n",
      "File \u001B[1;32m~\\AppData\\Local\\Programs\\Python\\Python311\\Lib\\turtle.py:2661\u001B[0m, in \u001B[0;36mRawTurtle._update\u001B[1;34m(self)\u001B[0m\n\u001B[0;32m   2659\u001B[0m     \u001B[38;5;28;01mreturn\u001B[39;00m\n\u001B[0;32m   2660\u001B[0m \u001B[38;5;28;01melif\u001B[39;00m screen\u001B[38;5;241m.\u001B[39m_tracing \u001B[38;5;241m==\u001B[39m \u001B[38;5;241m1\u001B[39m:\n\u001B[1;32m-> 2661\u001B[0m     \u001B[38;5;28;43mself\u001B[39;49m\u001B[38;5;241;43m.\u001B[39;49m\u001B[43m_update_data\u001B[49m\u001B[43m(\u001B[49m\u001B[43m)\u001B[49m\n\u001B[0;32m   2662\u001B[0m     \u001B[38;5;28mself\u001B[39m\u001B[38;5;241m.\u001B[39m_drawturtle()\n\u001B[0;32m   2663\u001B[0m     screen\u001B[38;5;241m.\u001B[39m_update()                  \u001B[38;5;66;03m# TurtleScreenBase\u001B[39;00m\n",
      "File \u001B[1;32m~\\AppData\\Local\\Programs\\Python\\Python311\\Lib\\turtle.py:2647\u001B[0m, in \u001B[0;36mRawTurtle._update_data\u001B[1;34m(self)\u001B[0m\n\u001B[0;32m   2646\u001B[0m \u001B[38;5;28;01mdef\u001B[39;00m \u001B[38;5;21m_update_data\u001B[39m(\u001B[38;5;28mself\u001B[39m):\n\u001B[1;32m-> 2647\u001B[0m     \u001B[38;5;28;43mself\u001B[39;49m\u001B[38;5;241;43m.\u001B[39;49m\u001B[43mscreen\u001B[49m\u001B[38;5;241;43m.\u001B[39;49m\u001B[43m_incrementudc\u001B[49m\u001B[43m(\u001B[49m\u001B[43m)\u001B[49m\n\u001B[0;32m   2648\u001B[0m     \u001B[38;5;28;01mif\u001B[39;00m \u001B[38;5;28mself\u001B[39m\u001B[38;5;241m.\u001B[39mscreen\u001B[38;5;241m.\u001B[39m_updatecounter \u001B[38;5;241m!=\u001B[39m \u001B[38;5;241m0\u001B[39m:\n\u001B[0;32m   2649\u001B[0m         \u001B[38;5;28;01mreturn\u001B[39;00m\n",
      "File \u001B[1;32m~\\AppData\\Local\\Programs\\Python\\Python311\\Lib\\turtle.py:1293\u001B[0m, in \u001B[0;36mTurtleScreen._incrementudc\u001B[1;34m(self)\u001B[0m\n\u001B[0;32m   1291\u001B[0m \u001B[38;5;28;01mif\u001B[39;00m \u001B[38;5;129;01mnot\u001B[39;00m TurtleScreen\u001B[38;5;241m.\u001B[39m_RUNNING:\n\u001B[0;32m   1292\u001B[0m     TurtleScreen\u001B[38;5;241m.\u001B[39m_RUNNING \u001B[38;5;241m=\u001B[39m \u001B[38;5;28;01mTrue\u001B[39;00m\n\u001B[1;32m-> 1293\u001B[0m     \u001B[38;5;28;01mraise\u001B[39;00m Terminator\n\u001B[0;32m   1294\u001B[0m \u001B[38;5;28;01mif\u001B[39;00m \u001B[38;5;28mself\u001B[39m\u001B[38;5;241m.\u001B[39m_tracing \u001B[38;5;241m>\u001B[39m \u001B[38;5;241m0\u001B[39m:\n\u001B[0;32m   1295\u001B[0m     \u001B[38;5;28mself\u001B[39m\u001B[38;5;241m.\u001B[39m_updatecounter \u001B[38;5;241m+\u001B[39m\u001B[38;5;241m=\u001B[39m \u001B[38;5;241m1\u001B[39m\n",
      "\u001B[1;31mTerminator\u001B[0m: "
     ]
    }
   ],
   "source": [
    "star = turtle.Turtle()\n",
    "star.speed(0)\n",
    "star.hideturtle()\n",
    "for i in range(900):\n",
    "    star.forward(200)\n",
    "    star.right(145)\n",
    "turtle.exitonclick()"
   ],
   "metadata": {
    "collapsed": false,
    "ExecuteTime": {
     "end_time": "2024-03-25T07:03:43.565616Z",
     "start_time": "2024-03-25T07:03:40.259106Z"
    }
   },
   "id": "a2e4159e29a6001b",
   "execution_count": 21
  },
  {
   "cell_type": "code",
   "outputs": [],
   "source": [
    "import turtle\n",
    "\n",
    "square = turtle.Turtle()\n",
    "square.shape(\"turtle\")\n",
    "square.color('red', 'green')\n",
    "square.begin_fill()\n",
    "for j in range(3):\n",
    "    square.left(20)\n",
    "    for i in range(4):\n",
    "        square.forward(100)\n",
    "        square.left(90)\n",
    "\n",
    "square.end_fill()\n",
    "turtle.exitonclick()"
   ],
   "metadata": {
    "collapsed": false,
    "ExecuteTime": {
     "end_time": "2024-03-24T20:44:34.185503Z",
     "start_time": "2024-03-24T20:44:28.290881Z"
    }
   },
   "id": "f3f6bc797d9a90a7",
   "execution_count": 16
  },
  {
   "cell_type": "code",
   "outputs": [],
   "source": [
    "import turtle\n",
    "\n",
    "turtle.title(\"Turtle Circles\")\n",
    "circ = turtle.Turtle()\n",
    "circ.pencolor(\"purple\")\n",
    "circ.fillcolor(\"orange\")\n",
    "circ.shape(\"circle\")\n",
    "circ.pensize(5)\n",
    "circ.speed(10)\n",
    "circ.fd(150)\n",
    "circ.begin_fill()\n",
    "circ.circle(90)\n",
    "circ.end_fill()\n",
    "\n",
    "n = 10\n",
    "t = turtle.Turtle()\n",
    "while n <= 50:\n",
    "    t.circle(n)\n",
    "    n += 10\n",
    "\n",
    "turtle.exitonclick()"
   ],
   "metadata": {
    "collapsed": false,
    "ExecuteTime": {
     "end_time": "2024-03-24T20:45:05.186063Z",
     "start_time": "2024-03-24T20:44:56.412754Z"
    }
   },
   "id": "efd0fb364976fae3",
   "execution_count": 18
  },
  {
   "cell_type": "code",
   "outputs": [],
   "source": [],
   "metadata": {
    "collapsed": false
   },
   "id": "6c50c119cd9d1a46"
  }
 ],
 "metadata": {
  "kernelspec": {
   "display_name": "Python 3",
   "language": "python",
   "name": "python3"
  },
  "language_info": {
   "codemirror_mode": {
    "name": "ipython",
    "version": 2
   },
   "file_extension": ".py",
   "mimetype": "text/x-python",
   "name": "python",
   "nbconvert_exporter": "python",
   "pygments_lexer": "ipython2",
   "version": "2.7.6"
  }
 },
 "nbformat": 4,
 "nbformat_minor": 5
}
